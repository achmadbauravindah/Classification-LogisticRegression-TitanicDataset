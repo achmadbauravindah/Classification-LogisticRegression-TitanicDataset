{
  "nbformat": 4,
  "nbformat_minor": 0,
  "metadata": {
    "colab": {
      "name": " Classification-LogisticRegression-TitanicDataset.ipynb",
      "provenance": [],
      "authorship_tag": "ABX9TyMmiTJcdZxi7io7sv8zw3NX",
      "include_colab_link": true
    },
    "kernelspec": {
      "name": "python3",
      "display_name": "Python 3"
    },
    "language_info": {
      "name": "python"
    }
  },
  "cells": [
    {
      "cell_type": "markdown",
      "metadata": {
        "id": "view-in-github",
        "colab_type": "text"
      },
      "source": [
        "<a href=\"https://colab.research.google.com/github/achmadbauravindah/Classification-LogisticRegression-TitanicDataset/blob/main/Classification_LogisticRegression_TitanicDataset.ipynb\" target=\"_parent\"><img src=\"https://colab.research.google.com/assets/colab-badge.svg\" alt=\"Open In Colab\"/></a>"
      ]
    },
    {
      "cell_type": "code",
      "execution_count": null,
      "metadata": {
        "id": "QaZyu5Q8IT-o"
      },
      "outputs": [],
      "source": [
        ""
      ]
    },
    {
      "cell_type": "code",
      "execution_count": 1,
      "metadata": {
        "id": "MtxnyFFHdgjY"
      },
      "outputs": [],
      "source": [
        "import matplotlib.pyplot as plt # Plotting\n",
        "import numpy as np # Array\n",
        "import pandas as pd # Dataframe\n",
        "from sklearn.impute import KNNImputer # Missing Value\n",
        "from sklearn.preprocessing import MinMaxScaler # Normalisasi data\n",
        "from sklearn.svm import SVC # Support Vector Machine Classifier\n",
        "from sklearn.linear_model import LogisticRegression # Support Vector Machine Classifier\n",
        "from sklearn.model_selection import train_test_split # Split data\n",
        "from sklearn.metrics import accuracy_score\n",
        "from sklearn.model_selection import GridSearchCV\n",
        "import time\n",
        "import random\n",
        "import csv"
      ]
    },
    {
      "cell_type": "code",
      "source": [
        "# Get data from Kaggle\n",
        "_ = ! git clone https://github.com/achmadbauravindah/ravin_kaggle_credential.git # get credential from kaggle\n",
        "_ = ! pip install kaggle # install kaggle on device\n",
        "_ = ! mkdir ~/.kaggle # make hidden folder .kaggle to configure credential\n",
        "_ = ! cp ravin_kaggle_credential/kaggle.json ~/.kaggle/ # copy credential from github to .kaggle folder\n",
        "_ = ! chmod 600 ~/.kaggle/kaggle.json # change access\n",
        "_ = ! kaggle datasets download titanic-dataset # which dataset to download\n",
        "_ = ! unzip titanic-dataset # unzip if data zipped"
      ],
      "metadata": {
        "id": "wHXssMgVfTEJ"
      },
      "execution_count": 2,
      "outputs": []
    },
    {
      "cell_type": "code",
      "source": [
        "# Load dataset from storage\n",
        "PATH = \"Titanic Dataset.csv\"\n",
        "raw_data = pd.read_csv(PATH, delimiter=';')"
      ],
      "metadata": {
        "id": "Z4giJXiYe-ye"
      },
      "execution_count": 3,
      "outputs": []
    },
    {
      "cell_type": "code",
      "source": [
        "raw_data.isnull().sum()"
      ],
      "metadata": {
        "colab": {
          "base_uri": "https://localhost:8080/"
        },
        "id": "ESleheCgg2wZ",
        "outputId": "fae35dc1-2fee-4202-f06a-1cc095dace64"
      },
      "execution_count": 4,
      "outputs": [
        {
          "output_type": "execute_result",
          "data": {
            "text/plain": [
              "PassengerId       0\n",
              "Survived          0\n",
              "Pclass            0\n",
              "Name              0\n",
              "Sex               0\n",
              "Age             263\n",
              "SibSp             0\n",
              "Parch             0\n",
              "Ticket            0\n",
              "Fare              1\n",
              "Cabin          1014\n",
              "Embarked          2\n",
              "dtype: int64"
            ]
          },
          "metadata": {},
          "execution_count": 4
        }
      ]
    },
    {
      "cell_type": "code",
      "source": [
        "raw_data.shape"
      ],
      "metadata": {
        "colab": {
          "base_uri": "https://localhost:8080/"
        },
        "id": "TJp_nztFnw0t",
        "outputId": "f1a9b0e7-29c4-4b50-bf0e-e2e1147b4a13"
      },
      "execution_count": 5,
      "outputs": [
        {
          "output_type": "execute_result",
          "data": {
            "text/plain": [
              "(1309, 12)"
            ]
          },
          "metadata": {},
          "execution_count": 5
        }
      ]
    },
    {
      "cell_type": "code",
      "source": [
        "def dropColumns(data):\n",
        "  data = data.drop(['PassengerId'], axis=1) # Karena tidak ada korelasi dengan data\n",
        "  data = data.drop(['Name'], axis=1) # Karena tidak ada korelasi dengan data\n",
        "  data = data.drop(['Ticket'], axis=1) # Karena tidak ada korelasi dengan data\n",
        "  data = data.drop(['Cabin'], axis=1) # Karena values banyak yang missing\n",
        "  return data"
      ],
      "metadata": {
        "id": "cfpJ5UgCgNYH"
      },
      "execution_count": 6,
      "outputs": []
    },
    {
      "cell_type": "code",
      "source": [
        "def encodingData(data): # Encode / Merubah Kategorikal menjadi Numerikal\n",
        "  data['Sex'].replace({ 'male':0, 'female':1}, inplace=True)\n",
        "  data['Embarked'].replace({ 'C':0, 'Q':1, 'S':2}, inplace=True)\n",
        "  return data"
      ],
      "metadata": {
        "id": "BMZiNU94inHW"
      },
      "execution_count": 7,
      "outputs": []
    },
    {
      "cell_type": "code",
      "source": [
        "def handleMissingValues(data):\n",
        "  k = 5\n",
        "  imputer = KNNImputer(n_neighbors=k)\n",
        "  data = pd.DataFrame(imputer.fit_transform(data), columns = data.columns)\n",
        "  return data"
      ],
      "metadata": {
        "id": "WaRRr5_Tkke-"
      },
      "execution_count": 8,
      "outputs": []
    },
    {
      "cell_type": "code",
      "source": [
        "def normalizeData(data):\n",
        "  data = np.array(data) # Ubah ke Numpy\n",
        "  data = np.rint(data) # Membulatkan data\n",
        "  data = pd.DataFrame(data) # Ubah ke Pandas\n",
        "  scaler = MinMaxScaler()\n",
        "  data = pd.DataFrame(scaler.fit_transform(data), columns = data.columns)\n",
        "  return data"
      ],
      "metadata": {
        "id": "Hh-c4G-kkpoI"
      },
      "execution_count": 9,
      "outputs": []
    },
    {
      "cell_type": "code",
      "source": [
        "def sliceLabel(data):\n",
        "  X = data\n",
        "  y = data.pop(0)\n",
        "  return X, y"
      ],
      "metadata": {
        "id": "rNw4H4n2ksl1"
      },
      "execution_count": 10,
      "outputs": []
    },
    {
      "cell_type": "code",
      "source": [
        "def toNumpy(X, y):\n",
        "  X = np.array(X)\n",
        "  y = np.array(y)\n",
        "  return X, y"
      ],
      "metadata": {
        "id": "mDRHJW25eADm"
      },
      "execution_count": 11,
      "outputs": []
    },
    {
      "cell_type": "code",
      "source": [
        "def parameters_tuning_LogReg(model, X, y):\n",
        "  params_grid_LogReg = [\n",
        "                  {'solver': ['newton-cg', 'lbfgs', 'liblinear', 'sag', 'saga'],\n",
        "                   },\n",
        "                  ]\n",
        "  optimal_parameters = GridSearchCV(estimator = model, \n",
        "                                  param_grid = params_grid_LogReg, \n",
        "                                  cv=2, \n",
        "                                  scoring='accuracy'\n",
        "                                  )\n",
        "  optimum = optimal_parameters.fit(X, y)\n",
        "  print(optimum.best_params_)"
      ],
      "metadata": {
        "id": "rLRwTmqteRVj"
      },
      "execution_count": 12,
      "outputs": []
    },
    {
      "cell_type": "code",
      "source": [
        "titanic_data = raw_data\n",
        "titanic_data = dropColumns(titanic_data)\n",
        "titanic_data = encodingData(titanic_data)\n",
        "titanic_data = handleMissingValues(titanic_data)\n",
        "titanic_data = normalizeData(titanic_data)\n",
        "X, y = sliceLabel(titanic_data) # Memisahkan data input dengan data label\n",
        "X, y = toNumpy(X ,y) # Mengubah data ke bentuk array numpy"
      ],
      "metadata": {
        "id": "gVaOoB5xk-si"
      },
      "execution_count": 13,
      "outputs": []
    },
    {
      "cell_type": "code",
      "source": [
        "# Parameters Tuning\n",
        "LogReg = LogisticRegression()\n",
        "parameters_tuning_LogReg(LogReg, X, y)"
      ],
      "metadata": {
        "colab": {
          "base_uri": "https://localhost:8080/"
        },
        "id": "WA3CXliSn-aK",
        "outputId": "5a52af9a-eef4-4bda-d3c8-01d0684b273c"
      },
      "execution_count": 14,
      "outputs": [
        {
          "output_type": "stream",
          "name": "stdout",
          "text": [
            "{'solver': 'liblinear'}\n"
          ]
        }
      ]
    },
    {
      "cell_type": "code",
      "source": [
        "def getMetrics(y_test_actual, y_test_predict):\n",
        "  cm = confusion_matrix(y_test_actual, y_test_predict)\n",
        "  accuracy = accuracy_score(y_test_actual, y_test_predict)\n",
        "  recall = recall_score(y_test_actual, y_test_predict, average='macro')\n",
        "  precision = precision_score(y_test_actual, y_test_predict, average='macro')\n",
        "  f1 = f1_score(y_test_actual, y_test_predict, average='macro')\n",
        "  return cm, accuracy*100, precision*100, recall*100, f1*100"
      ],
      "metadata": {
        "id": "8eOhso68rU7B"
      },
      "execution_count": 15,
      "outputs": []
    },
    {
      "cell_type": "code",
      "source": [
        "from sklearn.metrics import accuracy_score\n",
        "from sklearn.model_selection import KFold\n",
        "from sklearn.metrics import confusion_matrix\n",
        "from sklearn.metrics import precision_score, recall_score, f1_score\n",
        "\n",
        "def trainModelWithKFlod(n_folds, model, X, y):\n",
        "  kfold = KFold(n_splits=n_folds, shuffle=True)\n",
        "\n",
        "  # Simpan Metrics tiap fold\n",
        "  acc_per_fold = []\n",
        "  cm_per_fold = []\n",
        "  precision_per_fold = []\n",
        "  recall_per_fold =[]\n",
        "  f1_per_fold = []\n",
        "\n",
        "  for train_i, test_i in kfold.split(X, y):\n",
        "    X_train = X[train_i]\n",
        "    y_train = y[train_i]\n",
        "    X_test = X[test_i]\n",
        "    y_test = y[test_i]\n",
        "    \n",
        "    model.fit(X_train, y_train)\n",
        "    y_test_predicted = model.predict(X_test)\n",
        "    cm, accuracy, precision, recall, f1 = getMetrics(y_test, y_test_predicted)\n",
        "\n",
        "    cm_per_fold.append(cm)\n",
        "    acc_per_fold.append(accuracy)\n",
        "    precision_per_fold.append(precision)\n",
        "    recall_per_fold.append(recall)\n",
        "    f1_per_fold.append(f1)\n",
        "  return acc_per_fold, cm_per_fold, precision_per_fold, recall_per_fold, f1_per_fold"
      ],
      "metadata": {
        "id": "X2HE6dcwrDdO"
      },
      "execution_count": 16,
      "outputs": []
    },
    {
      "cell_type": "code",
      "source": [
        "def ploting(cm_per_fold, \n",
        "            acc_per_fold, \n",
        "            precision_per_fold, \n",
        "            recall_per_fold, \n",
        "            f1_per_fold\n",
        "            ):                    \n",
        "  index = 0\n",
        "  for cm in cm_per_fold:\n",
        "    acc = acc_per_fold[index]\n",
        "    precision = precision_per_fold[index]\n",
        "    recall = recall_per_fold[index]\n",
        "    f1 = f1_per_fold[index]\n",
        "    print('------------------------------------------------------------------------')\n",
        "    print(f'> Fold {index+1} - Accuracy: {acc}%')\n",
        "    # Show Precision\n",
        "    print('Precision: {:.2f}%'.format(precision))\n",
        "    # Show Recall\n",
        "    print('Recall: {:.2f}%'.format(recall))\n",
        "    # Show F1Score\n",
        "    print('F1 Score: {:.2f}%'.format(f1))\n",
        "    # Show Confusion Matrix\n",
        "    fig, ax = plt.subplots(figsize=(3, 3), constrained_layout=\"True\")\n",
        "    ax.matshow(cm, cmap=plt.cm.Blues, alpha=0.3)\n",
        "    for i in range(cm.shape[0]):\n",
        "        for j in range(cm.shape[1]):\n",
        "            ax.text(x=j, y=i, s=cm[i, j], va='center', ha='center')        \n",
        "    plt.xlabel('Predictions', fontsize=12)\n",
        "    plt.ylabel('Actuals', fontsize=12)\n",
        "    plt.title('Confusion Matrix', fontsize=12)\n",
        "    plt.show()\n",
        "    index+=1\n",
        "  print('------------------------------------------------------------------------')\n",
        "  print(\"RATA-RATA SEMUA 'METRICS' UNTUK SEMUA FOLD:\")\n",
        "  print(f'> Accuracy: {np.mean(acc_per_fold)}')\n",
        "  print(f'> Precision: {np.mean(precision_per_fold)}%')\n",
        "  print(f'> Recall: {np.mean(recall_per_fold)}%')\n",
        "  print(f'> F1Score: {np.mean(f1_per_fold)}%')\n",
        "\n",
        "  print('------------------------------------------------------------------------')"
      ],
      "metadata": {
        "id": "fp335r9Kq-mz"
      },
      "execution_count": 17,
      "outputs": []
    },
    {
      "cell_type": "code",
      "source": [
        "def showAccuracyPlotFold(accuracy, epoch_time):\n",
        "  foldKeN = [\"1\", \"2\", \"3\", \"4\", \"5\", \"6\", \"7\", \"8\", \"9\", \"10\"]\n",
        "  Akurasi = accuracy\n",
        "\n",
        "  fig, ax = plt.subplots()\n",
        "  ax.plot(foldKeN, Akurasi)\n",
        "\n",
        "  ax.set(xlabel='Fold - n', ylabel='Akurasi (%)',\n",
        "        title= 'Hasil Akurasi Epoch = 25 ({:.2f} s)'.format(epoch_time))\n",
        "  ax.grid()\n",
        "  \n",
        "  plt.show()"
      ],
      "metadata": {
        "id": "eDz2HbhirGyP"
      },
      "execution_count": 18,
      "outputs": []
    },
    {
      "cell_type": "code",
      "source": [
        "# Model dengan parameter terbaik\n",
        "BestModelLogReg = LogisticRegression(solver = 'liblinear')"
      ],
      "metadata": {
        "id": "26I6565crOuT"
      },
      "execution_count": 19,
      "outputs": []
    },
    {
      "cell_type": "code",
      "source": [
        "# Model SVM\n",
        "# n_folds = 5,\n",
        "start = time.process_time()\n",
        "acc_per_fold, cm_per_fold, precision_per_fold, recall_per_fold, f1_per_fold = trainModelWithKFlod(10, BestModelLogReg, X, y)\n",
        "epoch_time = time.process_time() - start\n",
        "\n",
        "ploting(cm_per_fold, \n",
        "        acc_per_fold, \n",
        "        precision_per_fold, \n",
        "        recall_per_fold, \n",
        "        f1_per_fold\n",
        "        )\n",
        "showAccuracyPlotFold(acc_per_fold, epoch_time)\n",
        "print('Waktu Komputasi Logistic Regression ({:.2f} s)'.format(epoch_time))"
      ],
      "metadata": {
        "colab": {
          "base_uri": "https://localhost:8080/",
          "height": 1000
        },
        "id": "J_c4kkH5q5cX",
        "outputId": "e7e4f788-837b-4d9d-9723-3d83c97e5a2f"
      },
      "execution_count": 22,
      "outputs": [
        {
          "output_type": "stream",
          "name": "stdout",
          "text": [
            "------------------------------------------------------------------------\n",
            "> Fold 1 - Accuracy: 87.78625954198473%\n",
            "Precision: 87.24%\n",
            "Recall: 87.24%\n",
            "F1 Score: 87.24%\n"
          ]
        },
        {
          "output_type": "display_data",
          "data": {
            "text/plain": [
              "<Figure size 216x216 with 1 Axes>"
            ],
            "image/png": "[encoded data removed]"
          },
          "metadata": {
            "needs_background": "light"
          }
        },
        {
          "output_type": "stream",
          "name": "stdout",
          "text": [
            "------------------------------------------------------------------------\n",
            "> Fold 2 - Accuracy: 80.1526717557252%\n",
            "Precision: 79.22%\n",
            "Recall: 78.77%\n",
            "F1 Score: 78.98%\n"
          ]
        },
        {
          "output_type": "display_data",
          "data": {
            "text/plain": [
              "<Figure size 216x216 with 1 Axes>"
            ],
            "image/png": "[encoded data removed]"
          },
          "metadata": {
            "needs_background": "light"
          }
        },
        {
          "output_type": "stream",
          "name": "stdout",
          "text": [
            "------------------------------------------------------------------------\n",
            "> Fold 3 - Accuracy: 84.7328244274809%\n",
            "Precision: 85.66%\n",
            "Recall: 82.64%\n",
            "F1 Score: 83.56%\n"
          ]
        },
        {
          "output_type": "display_data",
          "data": {
            "text/plain": [
              "<Figure size 216x216 with 1 Axes>"
            ],
            "image/png": "[encoded data removed]"
          },
          "metadata": {
            "needs_background": "light"
          }
        },
        {
          "output_type": "stream",
          "name": "stdout",
          "text": [
            "------------------------------------------------------------------------\n",
            "> Fold 4 - Accuracy: 84.7328244274809%\n",
            "Precision: 81.47%\n",
            "Recall: 81.47%\n",
            "F1 Score: 81.47%\n"
          ]
        },
        {
          "output_type": "display_data",
          "data": {
            "text/plain": [
              "<Figure size 216x216 with 1 Axes>"
            ],
            "image/png": "[encoded data removed]"
          },
          "metadata": {
            "needs_background": "light"
          }
        },
        {
          "output_type": "stream",
          "name": "stdout",
          "text": [
            "------------------------------------------------------------------------\n",
            "> Fold 5 - Accuracy: 83.20610687022901%\n",
            "Precision: 83.36%\n",
            "Recall: 82.17%\n",
            "F1 Score: 82.57%\n"
          ]
        },
        {
          "output_type": "display_data",
          "data": {
            "text/plain": [
              "<Figure size 216x216 with 1 Axes>"
            ],
            "image/png": "[encoded data removed]"
          },
          "metadata": {
            "needs_background": "light"
          }
        },
        {
          "output_type": "stream",
          "name": "stdout",
          "text": [
            "------------------------------------------------------------------------\n",
            "> Fold 6 - Accuracy: 88.54961832061069%\n",
            "Precision: 88.14%\n",
            "Recall: 87.88%\n",
            "F1 Score: 88.00%\n"
          ]
        },
        {
          "output_type": "display_data",
          "data": {
            "text/plain": [
              "<Figure size 216x216 with 1 Axes>"
            ],
            "image/png": "[encoded data removed]"
          },
          "metadata": {
            "needs_background": "light"
          }
        },
        {
          "output_type": "stream",
          "name": "stdout",
          "text": [
            "------------------------------------------------------------------------\n",
            "> Fold 7 - Accuracy: 87.02290076335878%\n",
            "Precision: 85.47%\n",
            "Recall: 87.01%\n",
            "F1 Score: 86.09%\n"
          ]
        },
        {
          "output_type": "display_data",
          "data": {
            "text/plain": [
              "<Figure size 216x216 with 1 Axes>"
            ],
            "image/png": "[encoded data removed]"
          },
          "metadata": {
            "needs_background": "light"
          }
        },
        {
          "output_type": "stream",
          "name": "stdout",
          "text": [
            "------------------------------------------------------------------------\n",
            "> Fold 8 - Accuracy: 85.49618320610686%\n",
            "Precision: 84.94%\n",
            "Recall: 84.06%\n",
            "F1 Score: 84.45%\n"
          ]
        },
        {
          "output_type": "display_data",
          "data": {
            "text/plain": [
              "<Figure size 216x216 with 1 Axes>"
            ],
            "image/png": "[encoded data removed]"
          },
          "metadata": {
            "needs_background": "light"
          }
        },
        {
          "output_type": "stream",
          "name": "stdout",
          "text": [
            "------------------------------------------------------------------------\n",
            "> Fold 9 - Accuracy: 85.49618320610686%\n",
            "Precision: 85.89%\n",
            "Recall: 82.13%\n",
            "F1 Score: 83.46%\n"
          ]
        },
        {
          "output_type": "display_data",
          "data": {
            "text/plain": [
              "<Figure size 216x216 with 1 Axes>"
            ],
            "image/png": "[encoded data removed]"
          },
          "metadata": {
            "needs_background": "light"
          }
        },
        {
          "output_type": "stream",
          "name": "stdout",
          "text": [
            "------------------------------------------------------------------------\n",
            "> Fold 10 - Accuracy: 86.92307692307692%\n",
            "Precision: 87.23%\n",
            "Recall: 84.67%\n",
            "F1 Score: 85.63%\n"
          ]
        },
        {
          "output_type": "display_data",
          "data": {
            "text/plain": [
              "<Figure size 216x216 with 1 Axes>"
            ],
            "image/png": "[encoded data removed]"
          },
          "metadata": {
            "needs_background": "light"
          }
        },
        {
          "output_type": "stream",
          "name": "stdout",
          "text": [
            "------------------------------------------------------------------------\n",
            "RATA-RATA SEMUA 'METRICS' UNTUK SEMUA FOLD:\n",
            "> Accuracy: 85.40986494421608\n",
            "> Precision: 84.86183149223749%\n",
            "> Recall: 83.80408555952744%\n",
            "> F1Score: 84.1437793557225%\n",
            "------------------------------------------------------------------------\n"
          ]
        },
        {
          "output_type": "display_data",
          "data": {
            "text/plain": [
              "<Figure size 432x288 with 1 Axes>"
            ],
            "image/png": "[encoded data removed]"
          },
          "metadata": {
            "needs_background": "light"
          }
        },
        {
          "output_type": "stream",
          "name": "stdout",
          "text": [
            "Waktu Komputasi Logistic Regression (0.13 s)\n"
          ]
        }
      ]
    }
  ]
}